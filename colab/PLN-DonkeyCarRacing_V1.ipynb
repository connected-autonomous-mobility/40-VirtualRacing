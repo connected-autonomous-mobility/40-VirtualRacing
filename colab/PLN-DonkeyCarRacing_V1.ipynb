{
  "nbformat": 4,
  "nbformat_minor": 0,
  "metadata": {
    "accelerator": "GPU",
    "colab": {
      "name": "PLN-DonkeyCarRacing_V1",
      "provenance": [],
      "collapsed_sections": [],
      "toc_visible": true,
      "include_colab_link": true
    },
    "kernelspec": {
      "display_name": "Python 3",
      "language": "python",
      "name": "python3"
    },
    "language_info": {
      "codemirror_mode": {
        "name": "ipython",
        "version": 3
      },
      "file_extension": ".py",
      "mimetype": "text/x-python",
      "name": "python",
      "nbconvert_exporter": "python",
      "pygments_lexer": "ipython3",
      "version": "3.7.3"
    }
  },
  "cells": [
    {
      "cell_type": "markdown",
      "metadata": {
        "id": "view-in-github",
        "colab_type": "text"
      },
      "source": [
        "<a href=\"https://colab.research.google.com/github/Heavy02011/test/blob/master/PLN_DonkeyCarRacing_V1.ipynb\" target=\"_parent\"><img src=\"https://colab.research.google.com/assets/colab-badge.svg\" alt=\"Open In Colab\"/></a>"
      ]
    },
    {
      "cell_type": "markdown",
      "metadata": {
        "colab_type": "text",
        "id": "BlmQIFSLZDdc"
      },
      "source": [
        "# Donkey Car Training using Google Colab\n",
        "\n",
        "Train your donkey car model using accelerated GPU for FREE on Google Colab"
      ]
    },
    {
      "cell_type": "markdown",
      "metadata": {
        "colab_type": "text",
        "id": "arsH-DhLcihq"
      },
      "source": [
        "## Check GPU allocation\n",
        "If \"Found GPU at: / device: GPU: 0\" is displayed, the GPU is ready to use."
      ]
    },
    {
      "cell_type": "code",
      "metadata": {
        "colab_type": "code",
        "id": "uQgEhuoTcg0N",
        "colab": {}
      },
      "source": [
        "import tensorflow\n",
        "print(tensorflow.__version__)"
      ],
      "execution_count": 0,
      "outputs": []
    },
    {
      "cell_type": "markdown",
      "metadata": {
        "colab_type": "text",
        "id": "Ba2oPDIrsDFg"
      },
      "source": [
        "## Git Clone the donkey repository"
      ]
    },
    {
      "cell_type": "code",
      "metadata": {
        "colab_type": "code",
        "id": "oOxd9PFUyNxI",
        "colab": {}
      },
      "source": [
        "!git clone https://github.com/autorope/donkeycar.git \n",
        "%cd /content/donkeycar\n",
        "\n",
        "!git checkout master"
      ],
      "execution_count": 0,
      "outputs": []
    },
    {
      "cell_type": "markdown",
      "metadata": {
        "colab_type": "text",
        "id": "9TkkcF-gsAnx"
      },
      "source": [
        "## Install donkey car"
      ]
    },
    {
      "cell_type": "code",
      "metadata": {
        "colab_type": "code",
        "id": "jz_PZgrByPDh",
        "colab": {}
      },
      "source": [
        "!pip3 install -e .[pc]"
      ],
      "execution_count": 0,
      "outputs": []
    },
    {
      "cell_type": "markdown",
      "metadata": {
        "colab_type": "text",
        "id": "syCctLq2r4Wk"
      },
      "source": [
        "## Create Project"
      ]
    },
    {
      "cell_type": "code",
      "metadata": {
        "colab_type": "code",
        "id": "1xjJBSITyXy2",
        "colab": {}
      },
      "source": [
        "!donkey createcar --path /content/mycar"
      ],
      "execution_count": 0,
      "outputs": []
    },
    {
      "cell_type": "markdown",
      "metadata": {
        "id": "SCf6uTHnO4Lh",
        "colab_type": "text"
      },
      "source": [
        "## Prepare Data\n",
        "### Copy the following code and run on pi\n",
        "\n",
        "\n",
        "```bash\n",
        "cd ~/mycar/data\n",
        "tar -czf tub_xx_yyyy_mm_dd.tar.gz tub_xx_yyyy_mm_dd\n",
        "\n",
        "```\n",
        "\n",
        "This will create a tub_xx_yyyy_mm_dd.tar.gz file under ~/mycar/data"
      ]
    },
    {
      "cell_type": "markdown",
      "metadata": {
        "colab_type": "text",
        "id": "dnUy1Z1zro77"
      },
      "source": [
        "## Upload Data\n",
        "\n",
        "\n",
        "### Copy the tub to your local pc\n",
        "\n",
        "Run this on your local pc if you are using linux/mac\n",
        "```\n",
        "sftp pi@raspberry.local\n",
        "cd ~/mycar/data\n",
        "get tub_xx_yyyy_mm_dd.tar.gz\n",
        "```\n",
        "\n",
        "If you are on a windows, download sftp utility like [filezilla](https://filezilla-project.org/) or [putty](https://www.chiark.greenend.org.uk/~sgtatham/putty/latest.html)"
      ]
    },
    {
      "cell_type": "markdown",
      "metadata": {
        "id": "wlwZuLKA56nt",
        "colab_type": "text"
      },
      "source": [
        "### Define your tub name here"
      ]
    },
    {
      "cell_type": "code",
      "metadata": {
        "id": "0ShFSsaewLCT",
        "colab_type": "code",
        "colab": {}
      },
      "source": [
        "tub_name=\"tub_49_19_12_10\""
      ],
      "execution_count": 0,
      "outputs": []
    },
    {
      "cell_type": "markdown",
      "metadata": {
        "id": "W47gmXA0O4Lo",
        "colab_type": "text"
      },
      "source": [
        "### Upload the tub to Google Drive\n",
        "\n",
        "First upload the tub_x_yyyy_mm_dd.tar.gz to Google Drive. We will then mount Google Drive from colab and copy the data from Drive directly. When you run the cell below, you will need to click the link and generate an authorization code to for colab to access your drive."
      ]
    },
    {
      "cell_type": "code",
      "metadata": {
        "id": "Bgp_wtENw_4n",
        "colab_type": "code",
        "colab": {}
      },
      "source": [
        "from google.colab import drive\n",
        "drive.mount('/content/drive')"
      ],
      "execution_count": 0,
      "outputs": []
    },
    {
      "cell_type": "markdown",
      "metadata": {
        "id": "IfSDpXj9x16v",
        "colab_type": "text"
      },
      "source": [
        "Suppose you upload the tub_xx_yyyy_mm_dd.tar.gz to Google Drive/mycar/tub_xx_yyyy_mm_dd.tar.gz, this is how you copy it from Google Drive to colab"
      ]
    },
    {
      "cell_type": "code",
      "metadata": {
        "id": "BIzWTrV-xwkJ",
        "colab_type": "code",
        "colab": {}
      },
      "source": [
        "%cd /content/mycar/data\n",
        "!cp /content/drive/My\\ Drive/mycar/{tub_name}.tar.gz ."
      ],
      "execution_count": 0,
      "outputs": []
    },
    {
      "cell_type": "markdown",
      "metadata": {
        "id": "QtwcEli6yFrw",
        "colab_type": "text"
      },
      "source": [
        "And untar it to the right place"
      ]
    },
    {
      "cell_type": "code",
      "metadata": {
        "id": "urhFWBkUyGf0",
        "colab_type": "code",
        "colab": {}
      },
      "source": [
        "!tar -xzf {tub_name}.tar.gz"
      ],
      "execution_count": 0,
      "outputs": []
    },
    {
      "cell_type": "markdown",
      "metadata": {
        "id": "eyPsgV5KyFkg",
        "colab_type": "text"
      },
      "source": [
        "Check whether the data is there"
      ]
    },
    {
      "cell_type": "code",
      "metadata": {
        "id": "KsItvBTkzWcH",
        "colab_type": "code",
        "colab": {}
      },
      "source": [
        "!ls {tub_name}"
      ],
      "execution_count": 0,
      "outputs": []
    },
    {
      "cell_type": "markdown",
      "metadata": {
        "colab_type": "text",
        "id": "T3Ya8qEUAfOv"
      },
      "source": [
        "## Train your model"
      ]
    },
    {
      "cell_type": "code",
      "metadata": {
        "colab_type": "code",
        "id": "edH3xO_AVWXu",
        "colab": {}
      },
      "source": [
        "!python /content/mycar/manage.py train --type linear --model /content/mycar/models/mypilot.h5"
      ],
      "execution_count": 0,
      "outputs": []
    },
    {
      "cell_type": "markdown",
      "metadata": {
        "id": "rXzn1noJz5MQ",
        "colab_type": "text"
      },
      "source": [
        "Check if the model is generated\n",
        "\n"
      ]
    },
    {
      "cell_type": "code",
      "metadata": {
        "id": "5b9vJV4EzlO8",
        "colab_type": "code",
        "colab": {}
      },
      "source": [
        "!ls -alh /content/mycar/models"
      ],
      "execution_count": 0,
      "outputs": []
    },
    {
      "cell_type": "code",
      "metadata": {
        "id": "AixQrFy_z3vv",
        "colab_type": "code",
        "colab": {}
      },
      "source": [
        "%cd /content/mycar/models\n",
        "\n",
        "import glob\n",
        "file = glob.glob(\"*.png\")\n",
        "  \n",
        "from IPython.display import Image\n",
        "Image(file[0])"
      ],
      "execution_count": 0,
      "outputs": []
    },
    {
      "cell_type": "markdown",
      "metadata": {
        "colab_type": "text",
        "id": "6BEOJYH601O0"
      },
      "source": [
        "## Copy the trained model back to Donkey Car (Pi)\n",
        "\n",
        "Once the training is complete on colab, download the model file under /content/mycar/models/ folder location."
      ]
    },
    {
      "cell_type": "code",
      "metadata": {
        "id": "YtvyJpOdocjb",
        "colab_type": "code",
        "colab": {}
      },
      "source": [
        "from google.colab import files\n",
        "\n",
        "files.download('./mypilot.h5')"
      ],
      "execution_count": 0,
      "outputs": []
    },
    {
      "cell_type": "markdown",
      "metadata": {
        "id": "i7AIY6yBOCM-",
        "colab_type": "text"
      },
      "source": [
        "Alternatively, you can copy the model back to Google Drive too"
      ]
    },
    {
      "cell_type": "code",
      "metadata": {
        "id": "7Dim4fCpOBo9",
        "colab_type": "code",
        "colab": {}
      },
      "source": [
        "!cp /content/mycar/models/mypilot.h5 /content/drive/My\\ Drive/mycar/models/mypilot.h5"
      ],
      "execution_count": 0,
      "outputs": []
    },
    {
      "cell_type": "markdown",
      "metadata": {
        "id": "GpkOVzh86omO",
        "colab_type": "text"
      },
      "source": [
        "### Copy the file from your PC or Mac to the Raspberry Pi using Filezilla or scp command.\n",
        "\n",
        "```\n",
        "sftp pi@raspberry.local\n",
        "cd mycar/models\n",
        "put mypilot.h5\n",
        "```"
      ]
    },
    {
      "cell_type": "markdown",
      "metadata": {
        "colab_type": "text",
        "id": "hfERkGy821Xy"
      },
      "source": [
        "## Start Autopilot on Pi\n",
        "\n",
        "\n",
        "```bash\n",
        "cd ~/mycar\n",
        "python manage.py drive --model models/mypilot.h5 --js\n",
        "```\n"
      ]
    },
    {
      "cell_type": "markdown",
      "metadata": {
        "id": "X93SodzAv9hV",
        "colab_type": "text"
      },
      "source": [
        "## Bonus - Salient Object Visualization"
      ]
    },
    {
      "cell_type": "code",
      "metadata": {
        "id": "4AZvWSeiyqto",
        "colab_type": "code",
        "colab": {}
      },
      "source": [
        "# !pip install git+https://github.com/autorope/keras-vis.git\n",
        "!pip uninstall keras-vis\n",
        "!pip install git+https://github.com/sctse999/keras-vis\n",
        "  \n",
        "  "
      ],
      "execution_count": 0,
      "outputs": []
    },
    {
      "cell_type": "code",
      "metadata": {
        "id": "kKI37gVrv9Q8",
        "colab_type": "code",
        "colab": {}
      },
      "source": [
        "%cd /content/mycar\n",
        "!donkey makemovie --tub data/{tub_name} --model models/mypilot.h5 --type linear --salient"
      ],
      "execution_count": 0,
      "outputs": []
    },
    {
      "cell_type": "code",
      "metadata": {
        "id": "IcUrgOq_pePV",
        "colab_type": "code",
        "colab": {}
      },
      "source": [
        "from google.colab import files\n",
        "\n",
        "%cd /content/mycar\n",
        "!ls -ahl\n",
        "files.download('tub_movie.mp4')"
      ],
      "execution_count": 0,
      "outputs": []
    }
  ]
}
